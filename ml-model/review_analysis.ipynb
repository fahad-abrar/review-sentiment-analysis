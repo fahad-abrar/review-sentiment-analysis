{
 "cells": [
  {
   "cell_type": "code",
   "execution_count": 1,
   "metadata": {},
   "outputs": [],
   "source": [
    "import pandas as pd\n",
    "import numpy as np\n",
    "import re\n",
    "import nltk\n",
    "from nltk.corpus import stopwords\n",
    "from nltk.stem.porter import PorterStemmer\n",
    "from sklearn.feature_extraction.text import  TfidfVectorizer\n",
    "from sklearn.preprocessing import LabelEncoder\n",
    "from sklearn.model_selection import train_test_split\n",
    "from sklearn.feature_extraction.text import TfidfVectorizer\n",
    "from sklearn.linear_model import LogisticRegression\n",
    "from sklearn.ensemble import RandomForestClassifier\n",
    "from xgboost import XGBClassifier\n",
    "from sklearn.metrics import accuracy_score"
   ]
  },
  {
   "cell_type": "code",
   "execution_count": 2,
   "metadata": {},
   "outputs": [
    {
     "data": {
      "text/html": [
       "<div>\n",
       "<style scoped>\n",
       "    .dataframe tbody tr th:only-of-type {\n",
       "        vertical-align: middle;\n",
       "    }\n",
       "\n",
       "    .dataframe tbody tr th {\n",
       "        vertical-align: top;\n",
       "    }\n",
       "\n",
       "    .dataframe thead th {\n",
       "        text-align: right;\n",
       "    }\n",
       "</style>\n",
       "<table border=\"1\" class=\"dataframe\">\n",
       "  <thead>\n",
       "    <tr style=\"text-align: right;\">\n",
       "      <th></th>\n",
       "      <th>product_name</th>\n",
       "      <th>product_price</th>\n",
       "      <th>Rate</th>\n",
       "      <th>Review</th>\n",
       "      <th>Summary</th>\n",
       "      <th>Sentiment</th>\n",
       "    </tr>\n",
       "  </thead>\n",
       "  <tbody>\n",
       "    <tr>\n",
       "      <th>0</th>\n",
       "      <td>Candes 12 L Room/Personal Air Cooler??????(Whi...</td>\n",
       "      <td>3999</td>\n",
       "      <td>5</td>\n",
       "      <td>super!</td>\n",
       "      <td>great cooler excellent air flow and for this p...</td>\n",
       "      <td>positive</td>\n",
       "    </tr>\n",
       "    <tr>\n",
       "      <th>1</th>\n",
       "      <td>Candes 12 L Room/Personal Air Cooler??????(Whi...</td>\n",
       "      <td>3999</td>\n",
       "      <td>5</td>\n",
       "      <td>awesome</td>\n",
       "      <td>best budget 2 fit cooler nice cooling</td>\n",
       "      <td>positive</td>\n",
       "    </tr>\n",
       "    <tr>\n",
       "      <th>2</th>\n",
       "      <td>Candes 12 L Room/Personal Air Cooler??????(Whi...</td>\n",
       "      <td>3999</td>\n",
       "      <td>3</td>\n",
       "      <td>fair</td>\n",
       "      <td>the quality is good but the power of air is de...</td>\n",
       "      <td>positive</td>\n",
       "    </tr>\n",
       "    <tr>\n",
       "      <th>3</th>\n",
       "      <td>Candes 12 L Room/Personal Air Cooler??????(Whi...</td>\n",
       "      <td>3999</td>\n",
       "      <td>1</td>\n",
       "      <td>useless product</td>\n",
       "      <td>very bad product its a only a fan</td>\n",
       "      <td>negative</td>\n",
       "    </tr>\n",
       "    <tr>\n",
       "      <th>4</th>\n",
       "      <td>Candes 12 L Room/Personal Air Cooler??????(Whi...</td>\n",
       "      <td>3999</td>\n",
       "      <td>3</td>\n",
       "      <td>fair</td>\n",
       "      <td>ok ok product</td>\n",
       "      <td>neutral</td>\n",
       "    </tr>\n",
       "  </tbody>\n",
       "</table>\n",
       "</div>"
      ],
      "text/plain": [
       "                                        product_name product_price Rate  \\\n",
       "0  Candes 12 L Room/Personal Air Cooler??????(Whi...          3999    5   \n",
       "1  Candes 12 L Room/Personal Air Cooler??????(Whi...          3999    5   \n",
       "2  Candes 12 L Room/Personal Air Cooler??????(Whi...          3999    3   \n",
       "3  Candes 12 L Room/Personal Air Cooler??????(Whi...          3999    1   \n",
       "4  Candes 12 L Room/Personal Air Cooler??????(Whi...          3999    3   \n",
       "\n",
       "            Review                                            Summary  \\\n",
       "0           super!  great cooler excellent air flow and for this p...   \n",
       "1          awesome              best budget 2 fit cooler nice cooling   \n",
       "2             fair  the quality is good but the power of air is de...   \n",
       "3  useless product                  very bad product its a only a fan   \n",
       "4             fair                                      ok ok product   \n",
       "\n",
       "  Sentiment  \n",
       "0  positive  \n",
       "1  positive  \n",
       "2  positive  \n",
       "3  negative  \n",
       "4   neutral  "
      ]
     },
     "execution_count": 2,
     "metadata": {},
     "output_type": "execute_result"
    }
   ],
   "source": [
    "# read the data set\n",
    "review_df = pd.read_csv('review_senti.csv')\n",
    "review_df.head()"
   ]
  },
  {
   "cell_type": "code",
   "execution_count": 3,
   "metadata": {},
   "outputs": [
    {
     "name": "stdout",
     "output_type": "stream",
     "text": [
      "<class 'pandas.core.frame.DataFrame'>\n",
      "RangeIndex: 205052 entries, 0 to 205051\n",
      "Data columns (total 6 columns):\n",
      " #   Column         Non-Null Count   Dtype \n",
      "---  ------         --------------   ----- \n",
      " 0   product_name   205052 non-null  object\n",
      " 1   product_price  205052 non-null  object\n",
      " 2   Rate           205052 non-null  object\n",
      " 3   Review         180388 non-null  object\n",
      " 4   Summary        205041 non-null  object\n",
      " 5   Sentiment      205052 non-null  object\n",
      "dtypes: object(6)\n",
      "memory usage: 9.4+ MB\n"
     ]
    }
   ],
   "source": [
    "# check the info of the data set\n",
    "review_df.info()"
   ]
  },
  {
   "cell_type": "code",
   "execution_count": 4,
   "metadata": {},
   "outputs": [
    {
     "data": {
      "text/html": [
       "<div>\n",
       "<style scoped>\n",
       "    .dataframe tbody tr th:only-of-type {\n",
       "        vertical-align: middle;\n",
       "    }\n",
       "\n",
       "    .dataframe tbody tr th {\n",
       "        vertical-align: top;\n",
       "    }\n",
       "\n",
       "    .dataframe thead th {\n",
       "        text-align: right;\n",
       "    }\n",
       "</style>\n",
       "<table border=\"1\" class=\"dataframe\">\n",
       "  <thead>\n",
       "    <tr style=\"text-align: right;\">\n",
       "      <th></th>\n",
       "      <th>product_name</th>\n",
       "      <th>product_price</th>\n",
       "      <th>Rate</th>\n",
       "      <th>Review</th>\n",
       "      <th>Summary</th>\n",
       "      <th>Sentiment</th>\n",
       "    </tr>\n",
       "  </thead>\n",
       "  <tbody>\n",
       "    <tr>\n",
       "      <th>count</th>\n",
       "      <td>205052</td>\n",
       "      <td>205052</td>\n",
       "      <td>205052</td>\n",
       "      <td>180388</td>\n",
       "      <td>205041</td>\n",
       "      <td>205052</td>\n",
       "    </tr>\n",
       "    <tr>\n",
       "      <th>unique</th>\n",
       "      <td>958</td>\n",
       "      <td>525</td>\n",
       "      <td>8</td>\n",
       "      <td>1324</td>\n",
       "      <td>92923</td>\n",
       "      <td>3</td>\n",
       "    </tr>\n",
       "    <tr>\n",
       "      <th>top</th>\n",
       "      <td>cello Pack of 18 Opalware Cello Dazzle Lush Fi...</td>\n",
       "      <td>1299</td>\n",
       "      <td>5</td>\n",
       "      <td>wonderful</td>\n",
       "      <td>good</td>\n",
       "      <td>positive</td>\n",
       "    </tr>\n",
       "    <tr>\n",
       "      <th>freq</th>\n",
       "      <td>6005</td>\n",
       "      <td>9150</td>\n",
       "      <td>118765</td>\n",
       "      <td>9016</td>\n",
       "      <td>17430</td>\n",
       "      <td>166581</td>\n",
       "    </tr>\n",
       "  </tbody>\n",
       "</table>\n",
       "</div>"
      ],
      "text/plain": [
       "                                             product_name product_price  \\\n",
       "count                                              205052        205052   \n",
       "unique                                                958           525   \n",
       "top     cello Pack of 18 Opalware Cello Dazzle Lush Fi...          1299   \n",
       "freq                                                 6005          9150   \n",
       "\n",
       "          Rate     Review Summary Sentiment  \n",
       "count   205052     180388  205041    205052  \n",
       "unique       8       1324   92923         3  \n",
       "top          5  wonderful    good  positive  \n",
       "freq    118765       9016   17430    166581  "
      ]
     },
     "execution_count": 4,
     "metadata": {},
     "output_type": "execute_result"
    }
   ],
   "source": [
    "review_df.describe()"
   ]
  },
  {
   "cell_type": "code",
   "execution_count": 5,
   "metadata": {},
   "outputs": [
    {
     "data": {
      "text/plain": [
       "product_name         0\n",
       "product_price        0\n",
       "Rate                 0\n",
       "Review           24664\n",
       "Summary             11\n",
       "Sentiment            0\n",
       "dtype: int64"
      ]
     },
     "execution_count": 5,
     "metadata": {},
     "output_type": "execute_result"
    }
   ],
   "source": [
    "# find the total number of null  value\n",
    "review_df.isnull().sum()"
   ]
  },
  {
   "cell_type": "code",
   "execution_count": 6,
   "metadata": {},
   "outputs": [
    {
     "name": "stdout",
     "output_type": "stream",
     "text": [
      "  Rate                                            Summary Sentiment\n",
      "0    5  great cooler excellent air flow and for this p...  positive\n",
      "1    5              best budget 2 fit cooler nice cooling  positive\n",
      "2    3  the quality is good but the power of air is de...  positive\n",
      "3    1                  very bad product its a only a fan  negative\n",
      "4    3                                      ok ok product   neutral\n"
     ]
    }
   ],
   "source": [
    "# filter the data and take only the rate , sentiment and summary\n",
    "filter_df = review_df[['Rate','Summary','Sentiment']]\n",
    "print(filter_df.head())"
   ]
  },
  {
   "cell_type": "code",
   "execution_count": 7,
   "metadata": {},
   "outputs": [
    {
     "name": "stdout",
     "output_type": "stream",
     "text": [
      "Rate          0\n",
      "Summary      11\n",
      "Sentiment     0\n",
      "dtype: int64\n"
     ]
    }
   ],
   "source": [
    "# find the total number of null  value in filter data set\n",
    "print(filter_df.isnull().sum())"
   ]
  },
  {
   "cell_type": "code",
   "execution_count": 8,
   "metadata": {},
   "outputs": [
    {
     "name": "stderr",
     "output_type": "stream",
     "text": [
      "C:\\Users\\FAHAD\\AppData\\Local\\Temp\\ipykernel_14228\\1380267634.py:2: SettingWithCopyWarning: \n",
      "A value is trying to be set on a copy of a slice from a DataFrame\n",
      "\n",
      "See the caveats in the documentation: https://pandas.pydata.org/pandas-docs/stable/user_guide/indexing.html#returning-a-view-versus-a-copy\n",
      "  filter_df.dropna(inplace= True)\n"
     ]
    }
   ],
   "source": [
    "# drop the null value from the data set\n",
    "filter_df.dropna(inplace= True)"
   ]
  },
  {
   "cell_type": "code",
   "execution_count": 9,
   "metadata": {},
   "outputs": [
    {
     "name": "stdout",
     "output_type": "stream",
     "text": [
      "Rate         0\n",
      "Summary      0\n",
      "Sentiment    0\n",
      "dtype: int64\n"
     ]
    }
   ],
   "source": [
    "# check if the data set has null value \n",
    "print(filter_df.isnull().sum())"
   ]
  },
  {
   "cell_type": "code",
   "execution_count": 10,
   "metadata": {},
   "outputs": [
    {
     "name": "stdout",
     "output_type": "stream",
     "text": [
      "Rate\n",
      "5.0    118758\n",
      "4.0     41891\n",
      "1.0     21300\n",
      "3.0     16599\n",
      "2.0      6490\n",
      "Name: count, dtype: int64\n"
     ]
    },
    {
     "name": "stderr",
     "output_type": "stream",
     "text": [
      "C:\\Users\\FAHAD\\AppData\\Local\\Temp\\ipykernel_14228\\2567776766.py:2: SettingWithCopyWarning: \n",
      "A value is trying to be set on a copy of a slice from a DataFrame.\n",
      "Try using .loc[row_indexer,col_indexer] = value instead\n",
      "\n",
      "See the caveats in the documentation: https://pandas.pydata.org/pandas-docs/stable/user_guide/indexing.html#returning-a-view-versus-a-copy\n",
      "  filter_df['Rate'] = pd.to_numeric(filter_df['Rate'], errors='coerce')\n"
     ]
    }
   ],
   "source": [
    "# convert the rate column into the numeric from\n",
    "filter_df['Rate'] = pd.to_numeric(filter_df['Rate'], errors='coerce')\n",
    "df = filter_df[filter_df['Rate'].isin([1, 2, 3, 4, 5])]\n",
    "print(df['Rate'].value_counts())"
   ]
  },
  {
   "cell_type": "code",
   "execution_count": 11,
   "metadata": {},
   "outputs": [
    {
     "name": "stdout",
     "output_type": "stream",
     "text": [
      "Sentiment\n",
      "positive    166575\n",
      "negative     28232\n",
      "neutral      10234\n",
      "Name: count, dtype: int64\n"
     ]
    }
   ],
   "source": [
    "# check the sentiment number\n",
    "print(filter_df['Sentiment'].value_counts())"
   ]
  },
  {
   "cell_type": "code",
   "execution_count": 12,
   "metadata": {},
   "outputs": [],
   "source": [
    "# seperate the sentiment \n",
    "positive = filter_df[filter_df['Sentiment']=='positive']\n",
    "negative = filter_df[filter_df['Sentiment']=='negative']\n",
    "neutral = filter_df[filter_df['Sentiment']=='neutral']\n"
   ]
  },
  {
   "cell_type": "code",
   "execution_count": 13,
   "metadata": {},
   "outputs": [
    {
     "name": "stdout",
     "output_type": "stream",
     "text": [
      "166575 28232 10234\n"
     ]
    }
   ],
   "source": [
    "# check the individual number of sentiment\n",
    "print(positive['Sentiment'].count(),\n",
    "negative['Sentiment'].count(),\n",
    "neutral['Sentiment'].count())"
   ]
  },
  {
   "cell_type": "code",
   "execution_count": 14,
   "metadata": {},
   "outputs": [
    {
     "name": "stdout",
     "output_type": "stream",
     "text": [
      "10234\n"
     ]
    }
   ],
   "source": [
    "# fix the number of individual sentiment\n",
    "min_sample = neutral['Sentiment'].count()\n",
    "print(min_sample)"
   ]
  },
  {
   "cell_type": "code",
   "execution_count": 15,
   "metadata": {},
   "outputs": [
    {
     "data": {
      "text/html": [
       "<div>\n",
       "<style scoped>\n",
       "    .dataframe tbody tr th:only-of-type {\n",
       "        vertical-align: middle;\n",
       "    }\n",
       "\n",
       "    .dataframe tbody tr th {\n",
       "        vertical-align: top;\n",
       "    }\n",
       "\n",
       "    .dataframe thead th {\n",
       "        text-align: right;\n",
       "    }\n",
       "</style>\n",
       "<table border=\"1\" class=\"dataframe\">\n",
       "  <thead>\n",
       "    <tr style=\"text-align: right;\">\n",
       "      <th></th>\n",
       "      <th>Rate</th>\n",
       "      <th>Summary</th>\n",
       "      <th>Sentiment</th>\n",
       "    </tr>\n",
       "  </thead>\n",
       "  <tbody>\n",
       "    <tr>\n",
       "      <th>203121</th>\n",
       "      <td>5.0</td>\n",
       "      <td>nyc set</td>\n",
       "      <td>positive</td>\n",
       "    </tr>\n",
       "    <tr>\n",
       "      <th>37084</th>\n",
       "      <td>1.0</td>\n",
       "      <td>quality not upto mark</td>\n",
       "      <td>neutral</td>\n",
       "    </tr>\n",
       "    <tr>\n",
       "      <th>105172</th>\n",
       "      <td>1.0</td>\n",
       "      <td>outside fridge fully heat and water drops come...</td>\n",
       "      <td>negative</td>\n",
       "    </tr>\n",
       "    <tr>\n",
       "      <th>157409</th>\n",
       "      <td>2.0</td>\n",
       "      <td>disappointed bubseeing plastic connecter it wa...</td>\n",
       "      <td>negative</td>\n",
       "    </tr>\n",
       "    <tr>\n",
       "      <th>55343</th>\n",
       "      <td>3.0</td>\n",
       "      <td>no bad</td>\n",
       "      <td>neutral</td>\n",
       "    </tr>\n",
       "    <tr>\n",
       "      <th>15840</th>\n",
       "      <td>2.0</td>\n",
       "      <td>food over burn at bottom</td>\n",
       "      <td>negative</td>\n",
       "    </tr>\n",
       "    <tr>\n",
       "      <th>49920</th>\n",
       "      <td>1.0</td>\n",
       "      <td>quality is not good like as used</td>\n",
       "      <td>negative</td>\n",
       "    </tr>\n",
       "    <tr>\n",
       "      <th>987</th>\n",
       "      <td>5.0</td>\n",
       "      <td>best cooler air delivery high other cooler air...</td>\n",
       "      <td>positive</td>\n",
       "    </tr>\n",
       "    <tr>\n",
       "      <th>204520</th>\n",
       "      <td>5.0</td>\n",
       "      <td>very nice as aspected</td>\n",
       "      <td>positive</td>\n",
       "    </tr>\n",
       "    <tr>\n",
       "      <th>48004</th>\n",
       "      <td>2.0</td>\n",
       "      <td>small projects</td>\n",
       "      <td>neutral</td>\n",
       "    </tr>\n",
       "  </tbody>\n",
       "</table>\n",
       "</div>"
      ],
      "text/plain": [
       "        Rate                                            Summary Sentiment\n",
       "203121   5.0                                            nyc set  positive\n",
       "37084    1.0                              quality not upto mark   neutral\n",
       "105172   1.0  outside fridge fully heat and water drops come...  negative\n",
       "157409   2.0  disappointed bubseeing plastic connecter it wa...  negative\n",
       "55343    3.0                                             no bad   neutral\n",
       "15840    2.0                           food over burn at bottom  negative\n",
       "49920    1.0                   quality is not good like as used  negative\n",
       "987      5.0  best cooler air delivery high other cooler air...  positive\n",
       "204520   5.0                              very nice as aspected  positive\n",
       "48004    2.0                                     small projects   neutral"
      ]
     },
     "execution_count": 15,
     "metadata": {},
     "output_type": "execute_result"
    }
   ],
   "source": [
    "# concate the all the sentiment\n",
    "df = pd.concat([positive.sample(min_sample),\n",
    "                         negative.sample(min_sample), \n",
    "                         neutral.sample(min_sample)], axis=0)\n",
    "df.sample(10)"
   ]
  },
  {
   "cell_type": "code",
   "execution_count": 16,
   "metadata": {},
   "outputs": [
    {
     "name": "stdout",
     "output_type": "stream",
     "text": [
      "Sentiment\n",
      "positive    10234\n",
      "negative    10234\n",
      "neutral     10234\n",
      "Name: count, dtype: int64\n"
     ]
    }
   ],
   "source": [
    "# check if all the sentiment have same number\n",
    "print(df['Sentiment'].value_counts())"
   ]
  },
  {
   "cell_type": "code",
   "execution_count": 17,
   "metadata": {},
   "outputs": [
    {
     "name": "stdout",
     "output_type": "stream",
     "text": [
      "        Rate                                            Summary  Sentiment\n",
      "114858   5.0  i am really happy with the performance of this...          2\n",
      "32324    4.0      no second thoughts its cheap and and it works          2\n",
      "11198    3.0                                          good work          2\n",
      "33810    4.0                          worth for the price rs799          2\n",
      "171684   5.0                                              happy          2\n"
     ]
    }
   ],
   "source": [
    "# set levet to the sentiment \n",
    "lvl_encoder = LabelEncoder()\n",
    "df['Sentiment'] = lvl_encoder.fit_transform(df['Sentiment'])\n",
    "print(df.head(5))"
   ]
  },
  {
   "cell_type": "code",
   "execution_count": 18,
   "metadata": {},
   "outputs": [
    {
     "name": "stdout",
     "output_type": "stream",
     "text": [
      "negative -> 0\n",
      "neutral -> 1\n",
      "positive -> 2\n"
     ]
    }
   ],
   "source": [
    "# print the mapping of sentiment labels to their encoded values\n",
    "for i, class_label in enumerate(lvl_encoder.classes_):\n",
    "    print(f\"{class_label} -> {i}\")"
   ]
  },
  {
   "cell_type": "code",
   "execution_count": 19,
   "metadata": {},
   "outputs": [
    {
     "name": "stdout",
     "output_type": "stream",
     "text": [
      "<class 'pandas.core.frame.DataFrame'>\n",
      "Index: 30702 entries, 114858 to 174863\n",
      "Data columns (total 3 columns):\n",
      " #   Column     Non-Null Count  Dtype  \n",
      "---  ------     --------------  -----  \n",
      " 0   Rate       30702 non-null  float64\n",
      " 1   Summary    30702 non-null  object \n",
      " 2   Sentiment  30702 non-null  int32  \n",
      "dtypes: float64(1), int32(1), object(1)\n",
      "memory usage: 839.5+ KB\n"
     ]
    }
   ],
   "source": [
    "# check the info\n",
    "df.info()"
   ]
  },
  {
   "cell_type": "code",
   "execution_count": 20,
   "metadata": {},
   "outputs": [
    {
     "name": "stderr",
     "output_type": "stream",
     "text": [
      "[nltk_data] Downloading package stopwords to\n",
      "[nltk_data]     C:\\Users\\FAHAD\\AppData\\Roaming\\nltk_data...\n",
      "[nltk_data]   Package stopwords is already up-to-date!\n"
     ]
    },
    {
     "data": {
      "text/plain": [
       "True"
      ]
     },
     "execution_count": 20,
     "metadata": {},
     "output_type": "execute_result"
    }
   ],
   "source": [
    "# download the stopword\n",
    "nltk.download('stopwords')"
   ]
  },
  {
   "cell_type": "code",
   "execution_count": 21,
   "metadata": {},
   "outputs": [],
   "source": [
    "# remove stopwords and apply stemming\n",
    "stemer = PorterStemmer()\n",
    "def steming(content):\n",
    "\n",
    "    if not isinstance(content, str):\n",
    "        content = ''\n",
    "    stem_content = re.sub('[^a-zA-Z]',' ', content)\n",
    "    stem_content = stem_content.lower()\n",
    "    stem_content = stem_content.split()\n",
    "    stem_content = [stemer.stem(word) for word in stem_content if not word in stopwords.words('english')]\n",
    "    stem_content = ' '.join(stem_content)\n",
    "\n",
    "    return stem_content"
   ]
  },
  {
   "cell_type": "code",
   "execution_count": 22,
   "metadata": {},
   "outputs": [
    {
     "data": {
      "text/html": [
       "<div>\n",
       "<style scoped>\n",
       "    .dataframe tbody tr th:only-of-type {\n",
       "        vertical-align: middle;\n",
       "    }\n",
       "\n",
       "    .dataframe tbody tr th {\n",
       "        vertical-align: top;\n",
       "    }\n",
       "\n",
       "    .dataframe thead th {\n",
       "        text-align: right;\n",
       "    }\n",
       "</style>\n",
       "<table border=\"1\" class=\"dataframe\">\n",
       "  <thead>\n",
       "    <tr style=\"text-align: right;\">\n",
       "      <th></th>\n",
       "      <th>Rate</th>\n",
       "      <th>Summary</th>\n",
       "      <th>Sentiment</th>\n",
       "    </tr>\n",
       "  </thead>\n",
       "  <tbody>\n",
       "    <tr>\n",
       "      <th>114858</th>\n",
       "      <td>5.0</td>\n",
       "      <td>realli happi perform led tvit qualiti best sma...</td>\n",
       "      <td>2</td>\n",
       "    </tr>\n",
       "    <tr>\n",
       "      <th>32324</th>\n",
       "      <td>4.0</td>\n",
       "      <td>second thought cheap work</td>\n",
       "      <td>2</td>\n",
       "    </tr>\n",
       "    <tr>\n",
       "      <th>11198</th>\n",
       "      <td>3.0</td>\n",
       "      <td>good work</td>\n",
       "      <td>2</td>\n",
       "    </tr>\n",
       "    <tr>\n",
       "      <th>33810</th>\n",
       "      <td>4.0</td>\n",
       "      <td>worth price rs</td>\n",
       "      <td>2</td>\n",
       "    </tr>\n",
       "    <tr>\n",
       "      <th>171684</th>\n",
       "      <td>5.0</td>\n",
       "      <td>happi</td>\n",
       "      <td>2</td>\n",
       "    </tr>\n",
       "  </tbody>\n",
       "</table>\n",
       "</div>"
      ],
      "text/plain": [
       "        Rate                                            Summary  Sentiment\n",
       "114858   5.0  realli happi perform led tvit qualiti best sma...          2\n",
       "32324    4.0                          second thought cheap work          2\n",
       "11198    3.0                                          good work          2\n",
       "33810    4.0                                     worth price rs          2\n",
       "171684   5.0                                              happi          2"
      ]
     },
     "execution_count": 22,
     "metadata": {},
     "output_type": "execute_result"
    }
   ],
   "source": [
    "# appling the steming function\n",
    "df['Summary'] = df['Summary'].apply(steming)\n",
    "df.head()"
   ]
  },
  {
   "cell_type": "code",
   "execution_count": 23,
   "metadata": {},
   "outputs": [
    {
     "name": "stdout",
     "output_type": "stream",
     "text": [
      "['realli happi perform led tvit qualiti best smart tv also thank flipkart deliveri time'\n",
      " 'second thought cheap work' 'good work' ... 'averag product'\n",
      " 'livpur water purifi super water purifi cove avail anay market even onlin alsow avail kindli provid cover market'\n",
      " 'ok']\n"
     ]
    }
   ],
   "source": [
    "# seperate the the summary as x for model traning\n",
    "x= df['Summary'].values\n",
    "print(x)"
   ]
  },
  {
   "cell_type": "code",
   "execution_count": 24,
   "metadata": {},
   "outputs": [
    {
     "name": "stdout",
     "output_type": "stream",
     "text": [
      "[2 2 2 ... 1 1 1]\n"
     ]
    }
   ],
   "source": [
    "# seperate the the sentiment as y for model traning\n",
    "y=  df['Sentiment'].values\n",
    "print(y)"
   ]
  },
  {
   "cell_type": "code",
   "execution_count": 25,
   "metadata": {},
   "outputs": [
    {
     "name": "stdout",
     "output_type": "stream",
     "text": [
      "(24561,)\n"
     ]
    }
   ],
   "source": [
    "# split the x , y into the train and text group\n",
    "x_train, x_test, y_train, y_text = train_test_split(x, y, test_size=.2, stratify=y, random_state=2)\n",
    "print(x_train.shape)"
   ]
  },
  {
   "cell_type": "code",
   "execution_count": 26,
   "metadata": {},
   "outputs": [],
   "source": [
    "# initialize the TfidfVectorizer\n",
    "vectorize = TfidfVectorizer()\n",
    "\n",
    "# fit the vectorizer on the training data and transform it\n",
    "x_train = vectorize.fit_transform(x_train)\n",
    "\n",
    "# transform the test data using the fitted vectorizer\n",
    "x_test = vectorize.transform(x_test)\n"
   ]
  },
  {
   "cell_type": "code",
   "execution_count": 27,
   "metadata": {},
   "outputs": [
    {
     "name": "stdout",
     "output_type": "stream",
     "text": [
      "train--> 0.8373437563617117\n",
      "test--> 0.7816316560820713\n"
     ]
    },
    {
     "name": "stderr",
     "output_type": "stream",
     "text": [
      "C:\\Users\\FAHAD\\AppData\\Roaming\\Python\\Python312\\site-packages\\sklearn\\linear_model\\_logistic.py:469: ConvergenceWarning: lbfgs failed to converge (status=1):\n",
      "STOP: TOTAL NO. of ITERATIONS REACHED LIMIT.\n",
      "\n",
      "Increase the number of iterations (max_iter) or scale the data as shown in:\n",
      "    https://scikit-learn.org/stable/modules/preprocessing.html\n",
      "Please also refer to the documentation for alternative solver options:\n",
      "    https://scikit-learn.org/stable/modules/linear_model.html#logistic-regression\n",
      "  n_iter_i = _check_optimize_result(\n"
     ]
    }
   ],
   "source": [
    "# initialize the model\n",
    "lg = LogisticRegression()\n",
    "lg.fit(x_train, y_train)\n",
    "\n",
    "# predict on the train data\n",
    "x_train_prdiction_lg = lg.predict(x_train)\n",
    "traning_data_accuracy_lg = accuracy_score(y_train, x_train_prdiction_lg)\n",
    "print('train-->',traning_data_accuracy_lg)\n",
    "\n",
    "# predict on the test data\n",
    "x_text_prediction_lg = lg.predict(x_test)\n",
    "text_data_accuracy_lg = accuracy_score(y_text, x_text_prediction_lg)\n",
    "print('test-->',text_data_accuracy_lg)"
   ]
  },
  {
   "cell_type": "code",
   "execution_count": 28,
   "metadata": {},
   "outputs": [
    {
     "name": "stdout",
     "output_type": "stream",
     "text": [
      "train--> 0.7751313057285941\n",
      "test--> 0.763393584106823\n"
     ]
    }
   ],
   "source": [
    "# initialize the model\n",
    "rf = RandomForestClassifier(\n",
    "    n_estimators=350,    # number of trees in the forest\n",
    "    max_depth=25,        # maximum depth of the tree\n",
    "    min_samples_split=5, # minimum number of samples required to split an internal node\n",
    "    min_samples_leaf=2,  # minimum number of samples required to be at a leaf node\n",
    "    bootstrap=True       # bootstrap samples are used when building trees\n",
    ")\n",
    "\n",
    "# fit the model to the training data\n",
    "rf.fit(x_train, y_train)\n",
    "\n",
    "# predict on the train data\n",
    "x_train_prdiction_rf = rf.predict(x_train)\n",
    "traning_data_accuracy_rf = accuracy_score(y_train, x_train_prdiction_rf)\n",
    "print('train-->',traning_data_accuracy_rf)\n",
    "\n",
    "# predict on the test data\n",
    "x_text_prediction_rf = rf.predict(x_test)\n",
    "text_data_accuracy_rf = accuracy_score(y_text, x_text_prediction_rf)\n",
    "print('test-->',text_data_accuracy_rf)\n"
   ]
  },
  {
   "cell_type": "code",
   "execution_count": 29,
   "metadata": {},
   "outputs": [
    {
     "name": "stdout",
     "output_type": "stream",
     "text": [
      "train--> 0.7751313057285941\n",
      "test--> 0.782608695652174\n"
     ]
    }
   ],
   "source": [
    "# initialize the model\n",
    "xgb = XGBClassifier(\n",
    "    n_estimators=450,       # number of boosting rounds (trees)\n",
    "    max_depth=8,            # maximum depth of a tree\n",
    "    learning_rate=0.15,     # step size shrinkage used to prevent overfitting\n",
    "    subsample=0.75,         # subsample ratio of the training instance\n",
    ")\n",
    "\n",
    "# fit the model to the training data\n",
    "xgb.fit(x_train, y_train)\n",
    "\n",
    "# predict on the train data\n",
    "x_train_prdiction_xgb = xgb.predict(x_train)\n",
    "traning_data_accuracy_xgb = accuracy_score(y_train, x_train_prdiction_xgb)\n",
    "print('train-->',traning_data_accuracy_rf)\n",
    "\n",
    "# predict on the test data\n",
    "x_text_prediction_xgb = xgb.predict(x_test)\n",
    "text_data_accuracy_xgb = accuracy_score(y_text, x_text_prediction_xgb)\n",
    "print('test-->',text_data_accuracy_xgb)\n"
   ]
  },
  {
   "cell_type": "code",
   "execution_count": 32,
   "metadata": {},
   "outputs": [],
   "source": [
    "# import the save model\n",
    "\n",
    "import pickle\n",
    "model = 'model.sav'\n",
    "vectorizer = 'vectorizer.sav'\n",
    "pickle.dump(xgb,open(model, 'wb'))\n",
    "pickle.dump(vectorize,open(vectorizer, 'wb'))\n"
   ]
  },
  {
   "cell_type": "code",
   "execution_count": 31,
   "metadata": {},
   "outputs": [
    {
     "data": {
      "text/plain": [
       "\"\\nmodel = pickle.load(open('model.sav','rb'))\\nprd = model.predict(x_test[20])\\nprint(prd)\\n\\n\""
      ]
     },
     "execution_count": 31,
     "metadata": {},
     "output_type": "execute_result"
    }
   ],
   "source": [
    "# load the model\n",
    "'''\n",
    "model = pickle.load(open('model.sav','rb'))\n",
    "prd = model.predict(x_test[20])\n",
    "print(prd)\n",
    "\n",
    "'''\n"
   ]
  },
  {
   "cell_type": "code",
   "execution_count": null,
   "metadata": {},
   "outputs": [],
   "source": []
  },
  {
   "cell_type": "code",
   "execution_count": null,
   "metadata": {},
   "outputs": [],
   "source": []
  },
  {
   "cell_type": "code",
   "execution_count": null,
   "metadata": {},
   "outputs": [],
   "source": []
  },
  {
   "cell_type": "code",
   "execution_count": null,
   "metadata": {},
   "outputs": [],
   "source": []
  },
  {
   "cell_type": "code",
   "execution_count": null,
   "metadata": {},
   "outputs": [],
   "source": []
  },
  {
   "cell_type": "code",
   "execution_count": null,
   "metadata": {},
   "outputs": [],
   "source": []
  },
  {
   "cell_type": "code",
   "execution_count": null,
   "metadata": {},
   "outputs": [],
   "source": []
  }
 ],
 "metadata": {
  "kernelspec": {
   "display_name": "Python 3",
   "language": "python",
   "name": "python3"
  },
  "language_info": {
   "codemirror_mode": {
    "name": "ipython",
    "version": 3
   },
   "file_extension": ".py",
   "mimetype": "text/x-python",
   "name": "python",
   "nbconvert_exporter": "python",
   "pygments_lexer": "ipython3",
   "version": "3.12.3"
  }
 },
 "nbformat": 4,
 "nbformat_minor": 2
}
