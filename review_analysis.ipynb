{
 "cells": [
  {
   "cell_type": "code",
   "execution_count": 64,
   "metadata": {},
   "outputs": [],
   "source": [
    "import pandas as pd\n",
    "import numpy as np\n",
    "import re\n",
    "import nltk\n",
    "from nltk.corpus import stopwords\n",
    "from nltk.stem.porter import PorterStemmer\n",
    "from sklearn.feature_extraction.text import  TfidfVectorizer\n",
    "from sklearn.preprocessing import LabelEncoder\n",
    "from sklearn.model_selection import train_test_split\n",
    "from sklearn.feature_extraction.text import TfidfVectorizer\n",
    "from sklearn.linear_model import LogisticRegression\n",
    "from sklearn.ensemble import RandomForestClassifier\n",
    "from xgboost import XGBClassifier\n",
    "from sklearn.metrics import accuracy_score"
   ]
  },
  {
   "cell_type": "code",
   "execution_count": 65,
   "metadata": {},
   "outputs": [
    {
     "data": {
      "text/html": [
       "<div>\n",
       "<style scoped>\n",
       "    .dataframe tbody tr th:only-of-type {\n",
       "        vertical-align: middle;\n",
       "    }\n",
       "\n",
       "    .dataframe tbody tr th {\n",
       "        vertical-align: top;\n",
       "    }\n",
       "\n",
       "    .dataframe thead th {\n",
       "        text-align: right;\n",
       "    }\n",
       "</style>\n",
       "<table border=\"1\" class=\"dataframe\">\n",
       "  <thead>\n",
       "    <tr style=\"text-align: right;\">\n",
       "      <th></th>\n",
       "      <th>product_name</th>\n",
       "      <th>product_price</th>\n",
       "      <th>Rate</th>\n",
       "      <th>Review</th>\n",
       "      <th>Summary</th>\n",
       "      <th>Sentiment</th>\n",
       "    </tr>\n",
       "  </thead>\n",
       "  <tbody>\n",
       "    <tr>\n",
       "      <th>0</th>\n",
       "      <td>Candes 12 L Room/Personal Air Cooler??????(Whi...</td>\n",
       "      <td>3999</td>\n",
       "      <td>5</td>\n",
       "      <td>super!</td>\n",
       "      <td>great cooler excellent air flow and for this p...</td>\n",
       "      <td>positive</td>\n",
       "    </tr>\n",
       "    <tr>\n",
       "      <th>1</th>\n",
       "      <td>Candes 12 L Room/Personal Air Cooler??????(Whi...</td>\n",
       "      <td>3999</td>\n",
       "      <td>5</td>\n",
       "      <td>awesome</td>\n",
       "      <td>best budget 2 fit cooler nice cooling</td>\n",
       "      <td>positive</td>\n",
       "    </tr>\n",
       "    <tr>\n",
       "      <th>2</th>\n",
       "      <td>Candes 12 L Room/Personal Air Cooler??????(Whi...</td>\n",
       "      <td>3999</td>\n",
       "      <td>3</td>\n",
       "      <td>fair</td>\n",
       "      <td>the quality is good but the power of air is de...</td>\n",
       "      <td>positive</td>\n",
       "    </tr>\n",
       "    <tr>\n",
       "      <th>3</th>\n",
       "      <td>Candes 12 L Room/Personal Air Cooler??????(Whi...</td>\n",
       "      <td>3999</td>\n",
       "      <td>1</td>\n",
       "      <td>useless product</td>\n",
       "      <td>very bad product its a only a fan</td>\n",
       "      <td>negative</td>\n",
       "    </tr>\n",
       "    <tr>\n",
       "      <th>4</th>\n",
       "      <td>Candes 12 L Room/Personal Air Cooler??????(Whi...</td>\n",
       "      <td>3999</td>\n",
       "      <td>3</td>\n",
       "      <td>fair</td>\n",
       "      <td>ok ok product</td>\n",
       "      <td>neutral</td>\n",
       "    </tr>\n",
       "  </tbody>\n",
       "</table>\n",
       "</div>"
      ],
      "text/plain": [
       "                                        product_name product_price Rate  \\\n",
       "0  Candes 12 L Room/Personal Air Cooler??????(Whi...          3999    5   \n",
       "1  Candes 12 L Room/Personal Air Cooler??????(Whi...          3999    5   \n",
       "2  Candes 12 L Room/Personal Air Cooler??????(Whi...          3999    3   \n",
       "3  Candes 12 L Room/Personal Air Cooler??????(Whi...          3999    1   \n",
       "4  Candes 12 L Room/Personal Air Cooler??????(Whi...          3999    3   \n",
       "\n",
       "            Review                                            Summary  \\\n",
       "0           super!  great cooler excellent air flow and for this p...   \n",
       "1          awesome              best budget 2 fit cooler nice cooling   \n",
       "2             fair  the quality is good but the power of air is de...   \n",
       "3  useless product                  very bad product its a only a fan   \n",
       "4             fair                                      ok ok product   \n",
       "\n",
       "  Sentiment  \n",
       "0  positive  \n",
       "1  positive  \n",
       "2  positive  \n",
       "3  negative  \n",
       "4   neutral  "
      ]
     },
     "execution_count": 65,
     "metadata": {},
     "output_type": "execute_result"
    }
   ],
   "source": [
    "# read the data set\n",
    "review_df = pd.read_csv('review_senti.csv')\n",
    "review_df.head()"
   ]
  },
  {
   "cell_type": "code",
   "execution_count": 66,
   "metadata": {},
   "outputs": [
    {
     "name": "stdout",
     "output_type": "stream",
     "text": [
      "<class 'pandas.core.frame.DataFrame'>\n",
      "RangeIndex: 205052 entries, 0 to 205051\n",
      "Data columns (total 6 columns):\n",
      " #   Column         Non-Null Count   Dtype \n",
      "---  ------         --------------   ----- \n",
      " 0   product_name   205052 non-null  object\n",
      " 1   product_price  205052 non-null  object\n",
      " 2   Rate           205052 non-null  object\n",
      " 3   Review         180388 non-null  object\n",
      " 4   Summary        205041 non-null  object\n",
      " 5   Sentiment      205052 non-null  object\n",
      "dtypes: object(6)\n",
      "memory usage: 9.4+ MB\n"
     ]
    }
   ],
   "source": [
    "# check the info of the data set\n",
    "review_df.info()"
   ]
  },
  {
   "cell_type": "code",
   "execution_count": 67,
   "metadata": {},
   "outputs": [
    {
     "data": {
      "text/html": [
       "<div>\n",
       "<style scoped>\n",
       "    .dataframe tbody tr th:only-of-type {\n",
       "        vertical-align: middle;\n",
       "    }\n",
       "\n",
       "    .dataframe tbody tr th {\n",
       "        vertical-align: top;\n",
       "    }\n",
       "\n",
       "    .dataframe thead th {\n",
       "        text-align: right;\n",
       "    }\n",
       "</style>\n",
       "<table border=\"1\" class=\"dataframe\">\n",
       "  <thead>\n",
       "    <tr style=\"text-align: right;\">\n",
       "      <th></th>\n",
       "      <th>product_name</th>\n",
       "      <th>product_price</th>\n",
       "      <th>Rate</th>\n",
       "      <th>Review</th>\n",
       "      <th>Summary</th>\n",
       "      <th>Sentiment</th>\n",
       "    </tr>\n",
       "  </thead>\n",
       "  <tbody>\n",
       "    <tr>\n",
       "      <th>count</th>\n",
       "      <td>205052</td>\n",
       "      <td>205052</td>\n",
       "      <td>205052</td>\n",
       "      <td>180388</td>\n",
       "      <td>205041</td>\n",
       "      <td>205052</td>\n",
       "    </tr>\n",
       "    <tr>\n",
       "      <th>unique</th>\n",
       "      <td>958</td>\n",
       "      <td>525</td>\n",
       "      <td>8</td>\n",
       "      <td>1324</td>\n",
       "      <td>92923</td>\n",
       "      <td>3</td>\n",
       "    </tr>\n",
       "    <tr>\n",
       "      <th>top</th>\n",
       "      <td>cello Pack of 18 Opalware Cello Dazzle Lush Fi...</td>\n",
       "      <td>1299</td>\n",
       "      <td>5</td>\n",
       "      <td>wonderful</td>\n",
       "      <td>good</td>\n",
       "      <td>positive</td>\n",
       "    </tr>\n",
       "    <tr>\n",
       "      <th>freq</th>\n",
       "      <td>6005</td>\n",
       "      <td>9150</td>\n",
       "      <td>118765</td>\n",
       "      <td>9016</td>\n",
       "      <td>17430</td>\n",
       "      <td>166581</td>\n",
       "    </tr>\n",
       "  </tbody>\n",
       "</table>\n",
       "</div>"
      ],
      "text/plain": [
       "                                             product_name product_price  \\\n",
       "count                                              205052        205052   \n",
       "unique                                                958           525   \n",
       "top     cello Pack of 18 Opalware Cello Dazzle Lush Fi...          1299   \n",
       "freq                                                 6005          9150   \n",
       "\n",
       "          Rate     Review Summary Sentiment  \n",
       "count   205052     180388  205041    205052  \n",
       "unique       8       1324   92923         3  \n",
       "top          5  wonderful    good  positive  \n",
       "freq    118765       9016   17430    166581  "
      ]
     },
     "execution_count": 67,
     "metadata": {},
     "output_type": "execute_result"
    }
   ],
   "source": [
    "review_df.describe()"
   ]
  },
  {
   "cell_type": "code",
   "execution_count": 68,
   "metadata": {},
   "outputs": [
    {
     "data": {
      "text/plain": [
       "product_name         0\n",
       "product_price        0\n",
       "Rate                 0\n",
       "Review           24664\n",
       "Summary             11\n",
       "Sentiment            0\n",
       "dtype: int64"
      ]
     },
     "execution_count": 68,
     "metadata": {},
     "output_type": "execute_result"
    }
   ],
   "source": [
    "# find the total number of null  value\n",
    "review_df.isnull().sum()"
   ]
  },
  {
   "cell_type": "code",
   "execution_count": 69,
   "metadata": {},
   "outputs": [
    {
     "name": "stdout",
     "output_type": "stream",
     "text": [
      "  Rate                                            Summary Sentiment\n",
      "0    5  great cooler excellent air flow and for this p...  positive\n",
      "1    5              best budget 2 fit cooler nice cooling  positive\n",
      "2    3  the quality is good but the power of air is de...  positive\n",
      "3    1                  very bad product its a only a fan  negative\n",
      "4    3                                      ok ok product   neutral\n"
     ]
    }
   ],
   "source": [
    "# filter the data and take only the rate , sentiment and summary\n",
    "filter_df = review_df[['Rate','Summary','Sentiment']]\n",
    "print(filter_df.head())"
   ]
  },
  {
   "cell_type": "code",
   "execution_count": 70,
   "metadata": {},
   "outputs": [
    {
     "name": "stdout",
     "output_type": "stream",
     "text": [
      "Rate          0\n",
      "Summary      11\n",
      "Sentiment     0\n",
      "dtype: int64\n"
     ]
    }
   ],
   "source": [
    "# find the total number of null  value in filter data set\n",
    "print(filter_df.isnull().sum())"
   ]
  },
  {
   "cell_type": "code",
   "execution_count": 71,
   "metadata": {},
   "outputs": [
    {
     "name": "stderr",
     "output_type": "stream",
     "text": [
      "C:\\Users\\FAHAD\\AppData\\Local\\Temp\\ipykernel_5156\\1380267634.py:2: SettingWithCopyWarning: \n",
      "A value is trying to be set on a copy of a slice from a DataFrame\n",
      "\n",
      "See the caveats in the documentation: https://pandas.pydata.org/pandas-docs/stable/user_guide/indexing.html#returning-a-view-versus-a-copy\n",
      "  filter_df.dropna(inplace= True)\n"
     ]
    }
   ],
   "source": [
    "# drop the null value from the data set\n",
    "filter_df.dropna(inplace= True)"
   ]
  },
  {
   "cell_type": "code",
   "execution_count": 72,
   "metadata": {},
   "outputs": [
    {
     "name": "stdout",
     "output_type": "stream",
     "text": [
      "Rate         0\n",
      "Summary      0\n",
      "Sentiment    0\n",
      "dtype: int64\n"
     ]
    }
   ],
   "source": [
    "# check if the data set has null value \n",
    "print(filter_df.isnull().sum())"
   ]
  },
  {
   "cell_type": "code",
   "execution_count": 73,
   "metadata": {},
   "outputs": [
    {
     "name": "stdout",
     "output_type": "stream",
     "text": [
      "Rate\n",
      "5.0    118758\n",
      "4.0     41891\n",
      "1.0     21300\n",
      "3.0     16599\n",
      "2.0      6490\n",
      "Name: count, dtype: int64\n"
     ]
    },
    {
     "name": "stderr",
     "output_type": "stream",
     "text": [
      "C:\\Users\\FAHAD\\AppData\\Local\\Temp\\ipykernel_5156\\2567776766.py:2: SettingWithCopyWarning: \n",
      "A value is trying to be set on a copy of a slice from a DataFrame.\n",
      "Try using .loc[row_indexer,col_indexer] = value instead\n",
      "\n",
      "See the caveats in the documentation: https://pandas.pydata.org/pandas-docs/stable/user_guide/indexing.html#returning-a-view-versus-a-copy\n",
      "  filter_df['Rate'] = pd.to_numeric(filter_df['Rate'], errors='coerce')\n"
     ]
    }
   ],
   "source": [
    "# convert the rate column into the numeric from\n",
    "filter_df['Rate'] = pd.to_numeric(filter_df['Rate'], errors='coerce')\n",
    "df = filter_df[filter_df['Rate'].isin([1, 2, 3, 4, 5])]\n",
    "print(df['Rate'].value_counts())"
   ]
  },
  {
   "cell_type": "code",
   "execution_count": 74,
   "metadata": {},
   "outputs": [
    {
     "name": "stdout",
     "output_type": "stream",
     "text": [
      "Sentiment\n",
      "positive    166575\n",
      "negative     28232\n",
      "neutral      10234\n",
      "Name: count, dtype: int64\n"
     ]
    }
   ],
   "source": [
    "# check the sentiment number\n",
    "print(filter_df['Sentiment'].value_counts())"
   ]
  },
  {
   "cell_type": "code",
   "execution_count": 75,
   "metadata": {},
   "outputs": [],
   "source": [
    "# seperate the sentiment \n",
    "positive = filter_df[filter_df['Sentiment']=='positive']\n",
    "negative = filter_df[filter_df['Sentiment']=='negative']\n",
    "neutral = filter_df[filter_df['Sentiment']=='neutral']\n"
   ]
  },
  {
   "cell_type": "code",
   "execution_count": 76,
   "metadata": {},
   "outputs": [
    {
     "name": "stdout",
     "output_type": "stream",
     "text": [
      "166575 28232 10234\n"
     ]
    }
   ],
   "source": [
    "# check the individual number of sentiment\n",
    "print(positive['Sentiment'].count(),\n",
    "negative['Sentiment'].count(),\n",
    "neutral['Sentiment'].count())"
   ]
  },
  {
   "cell_type": "code",
   "execution_count": 77,
   "metadata": {},
   "outputs": [
    {
     "name": "stdout",
     "output_type": "stream",
     "text": [
      "10234\n"
     ]
    }
   ],
   "source": [
    "# fix the number of individual sentiment\n",
    "min_sample = neutral['Sentiment'].count()\n",
    "print(min_sample)"
   ]
  },
  {
   "cell_type": "code",
   "execution_count": 78,
   "metadata": {},
   "outputs": [
    {
     "data": {
      "text/html": [
       "<div>\n",
       "<style scoped>\n",
       "    .dataframe tbody tr th:only-of-type {\n",
       "        vertical-align: middle;\n",
       "    }\n",
       "\n",
       "    .dataframe tbody tr th {\n",
       "        vertical-align: top;\n",
       "    }\n",
       "\n",
       "    .dataframe thead th {\n",
       "        text-align: right;\n",
       "    }\n",
       "</style>\n",
       "<table border=\"1\" class=\"dataframe\">\n",
       "  <thead>\n",
       "    <tr style=\"text-align: right;\">\n",
       "      <th></th>\n",
       "      <th>Rate</th>\n",
       "      <th>Summary</th>\n",
       "      <th>Sentiment</th>\n",
       "    </tr>\n",
       "  </thead>\n",
       "  <tbody>\n",
       "    <tr>\n",
       "      <th>147834</th>\n",
       "      <td>5.0</td>\n",
       "      <td>exllent book</td>\n",
       "      <td>positive</td>\n",
       "    </tr>\n",
       "    <tr>\n",
       "      <th>138166</th>\n",
       "      <td>5.0</td>\n",
       "      <td>very good</td>\n",
       "      <td>positive</td>\n",
       "    </tr>\n",
       "    <tr>\n",
       "      <th>30617</th>\n",
       "      <td>1.0</td>\n",
       "      <td>size is too small</td>\n",
       "      <td>neutral</td>\n",
       "    </tr>\n",
       "    <tr>\n",
       "      <th>142805</th>\n",
       "      <td>2.0</td>\n",
       "      <td>do not buy after 3 month joints are break it</td>\n",
       "      <td>negative</td>\n",
       "    </tr>\n",
       "    <tr>\n",
       "      <th>199698</th>\n",
       "      <td>5.0</td>\n",
       "      <td>ok</td>\n",
       "      <td>neutral</td>\n",
       "    </tr>\n",
       "    <tr>\n",
       "      <th>205032</th>\n",
       "      <td>3.0</td>\n",
       "      <td>bowls are small size</td>\n",
       "      <td>negative</td>\n",
       "    </tr>\n",
       "    <tr>\n",
       "      <th>148242</th>\n",
       "      <td>1.0</td>\n",
       "      <td>product is good but that was crack by the righ...</td>\n",
       "      <td>neutral</td>\n",
       "    </tr>\n",
       "    <tr>\n",
       "      <th>136123</th>\n",
       "      <td>5.0</td>\n",
       "      <td>very good</td>\n",
       "      <td>positive</td>\n",
       "    </tr>\n",
       "    <tr>\n",
       "      <th>123274</th>\n",
       "      <td>1.0</td>\n",
       "      <td>dont buy it wasted of money</td>\n",
       "      <td>negative</td>\n",
       "    </tr>\n",
       "    <tr>\n",
       "      <th>148423</th>\n",
       "      <td>5.0</td>\n",
       "      <td>super quality</td>\n",
       "      <td>positive</td>\n",
       "    </tr>\n",
       "  </tbody>\n",
       "</table>\n",
       "</div>"
      ],
      "text/plain": [
       "        Rate                                            Summary Sentiment\n",
       "147834   5.0                                       exllent book  positive\n",
       "138166   5.0                                          very good  positive\n",
       "30617    1.0                                  size is too small   neutral\n",
       "142805   2.0       do not buy after 3 month joints are break it  negative\n",
       "199698   5.0                                                 ok   neutral\n",
       "205032   3.0                               bowls are small size  negative\n",
       "148242   1.0  product is good but that was crack by the righ...   neutral\n",
       "136123   5.0                                          very good  positive\n",
       "123274   1.0                        dont buy it wasted of money  negative\n",
       "148423   5.0                                      super quality  positive"
      ]
     },
     "execution_count": 78,
     "metadata": {},
     "output_type": "execute_result"
    }
   ],
   "source": [
    "# concate the all the sentiment\n",
    "df = pd.concat([positive.sample(min_sample),\n",
    "                         negative.sample(min_sample), \n",
    "                         neutral.sample(min_sample)], axis=0)\n",
    "df.sample(10)"
   ]
  },
  {
   "cell_type": "code",
   "execution_count": 79,
   "metadata": {},
   "outputs": [
    {
     "name": "stdout",
     "output_type": "stream",
     "text": [
      "Sentiment\n",
      "positive    10234\n",
      "negative    10234\n",
      "neutral     10234\n",
      "Name: count, dtype: int64\n"
     ]
    }
   ],
   "source": [
    "# check if all the sentiment have same number\n",
    "print(df['Sentiment'].value_counts())"
   ]
  },
  {
   "cell_type": "code",
   "execution_count": 80,
   "metadata": {},
   "outputs": [
    {
     "name": "stdout",
     "output_type": "stream",
     "text": [
      "        Rate                                            Summary  Sentiment\n",
      "119783   5.0  worth the priceproduct quality and sound quali...          2\n",
      "195977   5.0  the quality of product is really good easy to ...          2\n",
      "66765    5.0                                          very nice          2\n",
      "50887    5.0                                              super          2\n",
      "72104    4.0                                       nice product          2\n"
     ]
    }
   ],
   "source": [
    "# set levet to the sentiment \n",
    "lvl_encoder = LabelEncoder()\n",
    "df['Sentiment'] = lvl_encoder.fit_transform(df['Sentiment'])\n",
    "print(df.head(5))"
   ]
  },
  {
   "cell_type": "code",
   "execution_count": 81,
   "metadata": {},
   "outputs": [
    {
     "name": "stdout",
     "output_type": "stream",
     "text": [
      "negative -> 0\n",
      "neutral -> 1\n",
      "positive -> 2\n"
     ]
    }
   ],
   "source": [
    "# print the mapping of sentiment labels to their encoded values\n",
    "for i, class_label in enumerate(lvl_encoder.classes_):\n",
    "    print(f\"{class_label} -> {i}\")"
   ]
  },
  {
   "cell_type": "code",
   "execution_count": 82,
   "metadata": {},
   "outputs": [
    {
     "name": "stdout",
     "output_type": "stream",
     "text": [
      "<class 'pandas.core.frame.DataFrame'>\n",
      "Index: 30702 entries, 119783 to 73703\n",
      "Data columns (total 3 columns):\n",
      " #   Column     Non-Null Count  Dtype  \n",
      "---  ------     --------------  -----  \n",
      " 0   Rate       30701 non-null  float64\n",
      " 1   Summary    30702 non-null  object \n",
      " 2   Sentiment  30702 non-null  int32  \n",
      "dtypes: float64(1), int32(1), object(1)\n",
      "memory usage: 839.5+ KB\n"
     ]
    }
   ],
   "source": [
    "# check the info\n",
    "df.info()"
   ]
  },
  {
   "cell_type": "code",
   "execution_count": 83,
   "metadata": {},
   "outputs": [
    {
     "name": "stderr",
     "output_type": "stream",
     "text": [
      "[nltk_data] Downloading package stopwords to\n",
      "[nltk_data]     C:\\Users\\FAHAD\\AppData\\Roaming\\nltk_data...\n",
      "[nltk_data]   Package stopwords is already up-to-date!\n"
     ]
    },
    {
     "data": {
      "text/plain": [
       "True"
      ]
     },
     "execution_count": 83,
     "metadata": {},
     "output_type": "execute_result"
    }
   ],
   "source": [
    "# download the stopword\n",
    "nltk.download('stopwords')"
   ]
  },
  {
   "cell_type": "code",
   "execution_count": 84,
   "metadata": {},
   "outputs": [],
   "source": [
    "# remove stopwords and apply stemming\n",
    "stemer = PorterStemmer()\n",
    "def steming(content):\n",
    "\n",
    "    if not isinstance(content, str):\n",
    "        content = ''\n",
    "    stem_content = re.sub('[^a-zA-Z]',' ', content)\n",
    "    stem_content = stem_content.lower()\n",
    "    stem_content = stem_content.split()\n",
    "    stem_content = [stemer.stem(word) for word in stem_content if not word in stopwords.words('english')]\n",
    "    stem_content = ' '.join(stem_content)\n",
    "\n",
    "    return stem_content"
   ]
  },
  {
   "cell_type": "code",
   "execution_count": 85,
   "metadata": {},
   "outputs": [
    {
     "data": {
      "text/html": [
       "<div>\n",
       "<style scoped>\n",
       "    .dataframe tbody tr th:only-of-type {\n",
       "        vertical-align: middle;\n",
       "    }\n",
       "\n",
       "    .dataframe tbody tr th {\n",
       "        vertical-align: top;\n",
       "    }\n",
       "\n",
       "    .dataframe thead th {\n",
       "        text-align: right;\n",
       "    }\n",
       "</style>\n",
       "<table border=\"1\" class=\"dataframe\">\n",
       "  <thead>\n",
       "    <tr style=\"text-align: right;\">\n",
       "      <th></th>\n",
       "      <th>Rate</th>\n",
       "      <th>Summary</th>\n",
       "      <th>Sentiment</th>\n",
       "    </tr>\n",
       "  </thead>\n",
       "  <tbody>\n",
       "    <tr>\n",
       "      <th>119783</th>\n",
       "      <td>5.0</td>\n",
       "      <td>worth priceproduct qualiti sound qualiti aweso...</td>\n",
       "      <td>2</td>\n",
       "    </tr>\n",
       "    <tr>\n",
       "      <th>195977</th>\n",
       "      <td>5.0</td>\n",
       "      <td>qualiti product realli good easi assembl lengt...</td>\n",
       "      <td>2</td>\n",
       "    </tr>\n",
       "    <tr>\n",
       "      <th>66765</th>\n",
       "      <td>5.0</td>\n",
       "      <td>nice</td>\n",
       "      <td>2</td>\n",
       "    </tr>\n",
       "    <tr>\n",
       "      <th>50887</th>\n",
       "      <td>5.0</td>\n",
       "      <td>super</td>\n",
       "      <td>2</td>\n",
       "    </tr>\n",
       "    <tr>\n",
       "      <th>72104</th>\n",
       "      <td>4.0</td>\n",
       "      <td>nice product</td>\n",
       "      <td>2</td>\n",
       "    </tr>\n",
       "  </tbody>\n",
       "</table>\n",
       "</div>"
      ],
      "text/plain": [
       "        Rate                                            Summary  Sentiment\n",
       "119783   5.0  worth priceproduct qualiti sound qualiti aweso...          2\n",
       "195977   5.0  qualiti product realli good easi assembl lengt...          2\n",
       "66765    5.0                                               nice          2\n",
       "50887    5.0                                              super          2\n",
       "72104    4.0                                       nice product          2"
      ]
     },
     "execution_count": 85,
     "metadata": {},
     "output_type": "execute_result"
    }
   ],
   "source": [
    "# appling the steming function\n",
    "df['Summary'] = df['Summary'].apply(steming)\n",
    "df.head()"
   ]
  },
  {
   "cell_type": "code",
   "execution_count": 86,
   "metadata": {},
   "outputs": [
    {
     "name": "stdout",
     "output_type": "stream",
     "text": [
      "['worth priceproduct qualiti sound qualiti awesom dolbi support perfectth soundbar display dolbi audio support movi song play'\n",
      " 'qualiti product realli good easi assembl length height perfect depth littl less otherwis qualiti product wood use high densiti board thu smooth much stronger particl board must buy product depthwidth tabl problem suggest torch build bit wide product probabi cm depth perfect size'\n",
      " 'nice' ... 'nice product wifi rang good router firmwar old updat avail'\n",
      " 'ok' 'love bounc skin good suitabl hard ground weight bounc realli good']\n"
     ]
    }
   ],
   "source": [
    "# seperate the the summary as x for model traning\n",
    "x= df['Summary'].values\n",
    "print(x)"
   ]
  },
  {
   "cell_type": "code",
   "execution_count": 87,
   "metadata": {},
   "outputs": [
    {
     "name": "stdout",
     "output_type": "stream",
     "text": [
      "[2 2 2 ... 1 1 1]\n"
     ]
    }
   ],
   "source": [
    "# seperate the the sentiment as y for model traning\n",
    "y=  df['Sentiment'].values\n",
    "print(y)"
   ]
  },
  {
   "cell_type": "code",
   "execution_count": 88,
   "metadata": {},
   "outputs": [
    {
     "name": "stdout",
     "output_type": "stream",
     "text": [
      "(24561,)\n"
     ]
    }
   ],
   "source": [
    "# split the x , y into the train and text group\n",
    "x_train, x_test, y_train, y_text = train_test_split(x, y, test_size=.2, stratify=y, random_state=2)\n",
    "print(x_train.shape)"
   ]
  },
  {
   "cell_type": "code",
   "execution_count": 89,
   "metadata": {},
   "outputs": [],
   "source": [
    "# initialize the TfidfVectorizer\n",
    "vectorize = TfidfVectorizer()\n",
    "\n",
    "# fit the vectorizer on the training data and transform it\n",
    "x_train = vectorize.fit_transform(x_train)\n",
    "\n",
    "# transform the test data using the fitted vectorizer\n",
    "x_test = vectorize.transform(x_test)\n"
   ]
  },
  {
   "cell_type": "code",
   "execution_count": 90,
   "metadata": {},
   "outputs": [
    {
     "name": "stdout",
     "output_type": "stream",
     "text": [
      "train--> 0.8392166442734417\n",
      "test--> 0.7752808988764045\n"
     ]
    },
    {
     "name": "stderr",
     "output_type": "stream",
     "text": [
      "C:\\Users\\FAHAD\\AppData\\Roaming\\Python\\Python312\\site-packages\\sklearn\\linear_model\\_logistic.py:469: ConvergenceWarning: lbfgs failed to converge (status=1):\n",
      "STOP: TOTAL NO. of ITERATIONS REACHED LIMIT.\n",
      "\n",
      "Increase the number of iterations (max_iter) or scale the data as shown in:\n",
      "    https://scikit-learn.org/stable/modules/preprocessing.html\n",
      "Please also refer to the documentation for alternative solver options:\n",
      "    https://scikit-learn.org/stable/modules/linear_model.html#logistic-regression\n",
      "  n_iter_i = _check_optimize_result(\n"
     ]
    }
   ],
   "source": [
    "# initialize the model\n",
    "lg = LogisticRegression()\n",
    "lg.fit(x_train, y_train)\n",
    "\n",
    "# predict on the train data\n",
    "x_train_prdiction_lg = lg.predict(x_train)\n",
    "traning_data_accuracy_lg = accuracy_score(y_train, x_train_prdiction_lg)\n",
    "print('train-->',traning_data_accuracy_lg)\n",
    "\n",
    "# predict on the test data\n",
    "x_text_prediction_lg = lg.predict(x_test)\n",
    "text_data_accuracy_lg = accuracy_score(y_text, x_text_prediction_lg)\n",
    "print('test-->',text_data_accuracy_lg)"
   ]
  },
  {
   "cell_type": "code",
   "execution_count": 91,
   "metadata": {},
   "outputs": [
    {
     "name": "stdout",
     "output_type": "stream",
     "text": [
      "train--> 0.7821749928748829\n",
      "test--> 0.7638821038918743\n"
     ]
    }
   ],
   "source": [
    "# initialize the model\n",
    "rf = RandomForestClassifier(\n",
    "    n_estimators=350,    # number of trees in the forest\n",
    "    max_depth=25,        # maximum depth of the tree\n",
    "    min_samples_split=5, # minimum number of samples required to split an internal node\n",
    "    min_samples_leaf=2,  # minimum number of samples required to be at a leaf node\n",
    "    bootstrap=True       # bootstrap samples are used when building trees\n",
    ")\n",
    "\n",
    "# fit the model to the training data\n",
    "rf.fit(x_train, y_train)\n",
    "\n",
    "# predict on the train data\n",
    "x_train_prdiction_rf = rf.predict(x_train)\n",
    "traning_data_accuracy_rf = accuracy_score(y_train, x_train_prdiction_rf)\n",
    "print('train-->',traning_data_accuracy_rf)\n",
    "\n",
    "# predict on the test data\n",
    "x_text_prediction_rf = rf.predict(x_test)\n",
    "text_data_accuracy_rf = accuracy_score(y_text, x_text_prediction_rf)\n",
    "print('test-->',text_data_accuracy_rf)\n"
   ]
  },
  {
   "cell_type": "code",
   "execution_count": 92,
   "metadata": {},
   "outputs": [
    {
     "name": "stdout",
     "output_type": "stream",
     "text": [
      "train--> 0.7821749928748829\n",
      "test--> 0.7852141345057808\n"
     ]
    }
   ],
   "source": [
    "# initialize the model\n",
    "xgb = XGBClassifier(\n",
    "    n_estimators=450,       # number of boosting rounds (trees)\n",
    "    max_depth=8,            # maximum depth of a tree\n",
    "    learning_rate=0.15,     # step size shrinkage used to prevent overfitting\n",
    "    subsample=0.75,         # subsample ratio of the training instance\n",
    ")\n",
    "\n",
    "# fit the model to the training data\n",
    "xgb.fit(x_train, y_train)\n",
    "\n",
    "# predict on the train data\n",
    "x_train_prdiction_xgb = xgb.predict(x_train)\n",
    "traning_data_accuracy_xgb = accuracy_score(y_train, x_train_prdiction_xgb)\n",
    "print('train-->',traning_data_accuracy_rf)\n",
    "\n",
    "# predict on the test data\n",
    "x_text_prediction_xgb = xgb.predict(x_test)\n",
    "text_data_accuracy_xgb = accuracy_score(y_text, x_text_prediction_xgb)\n",
    "print('test-->',text_data_accuracy_xgb)\n"
   ]
  },
  {
   "cell_type": "code",
   "execution_count": 93,
   "metadata": {},
   "outputs": [
    {
     "data": {
      "text/plain": [
       "\"\\nimport pickle\\nfile_name = 'model.sav'\\npickle.dump(xgb,open(file_name, 'wb'))\\n\\n\""
      ]
     },
     "execution_count": 93,
     "metadata": {},
     "output_type": "execute_result"
    }
   ],
   "source": [
    "# import the save model\n",
    "'''\n",
    "import pickle\n",
    "file_name = 'model.sav'\n",
    "pickle.dump(xgb,open(file_name, 'wb'))\n",
    "\n",
    "'''"
   ]
  },
  {
   "cell_type": "code",
   "execution_count": 94,
   "metadata": {},
   "outputs": [
    {
     "data": {
      "text/plain": [
       "\"\\nmodel = pickle.load(open('model.sav','rb'))\\nprd = model.predict(x_test[20])\\nprint(prd)\\n\\n\""
      ]
     },
     "execution_count": 94,
     "metadata": {},
     "output_type": "execute_result"
    }
   ],
   "source": [
    "# load the model\n",
    "'''\n",
    "model = pickle.load(open('model.sav','rb'))\n",
    "prd = model.predict(x_test[20])\n",
    "print(prd)\n",
    "\n",
    "'''\n"
   ]
  },
  {
   "cell_type": "code",
   "execution_count": null,
   "metadata": {},
   "outputs": [],
   "source": []
  },
  {
   "cell_type": "code",
   "execution_count": null,
   "metadata": {},
   "outputs": [],
   "source": []
  },
  {
   "cell_type": "code",
   "execution_count": null,
   "metadata": {},
   "outputs": [],
   "source": []
  },
  {
   "cell_type": "code",
   "execution_count": null,
   "metadata": {},
   "outputs": [],
   "source": []
  },
  {
   "cell_type": "code",
   "execution_count": null,
   "metadata": {},
   "outputs": [],
   "source": []
  },
  {
   "cell_type": "code",
   "execution_count": null,
   "metadata": {},
   "outputs": [],
   "source": []
  },
  {
   "cell_type": "code",
   "execution_count": null,
   "metadata": {},
   "outputs": [],
   "source": []
  }
 ],
 "metadata": {
  "kernelspec": {
   "display_name": "Python 3",
   "language": "python",
   "name": "python3"
  },
  "language_info": {
   "codemirror_mode": {
    "name": "ipython",
    "version": 3
   },
   "file_extension": ".py",
   "mimetype": "text/x-python",
   "name": "python",
   "nbconvert_exporter": "python",
   "pygments_lexer": "ipython3",
   "version": "3.12.3"
  }
 },
 "nbformat": 4,
 "nbformat_minor": 2
}
